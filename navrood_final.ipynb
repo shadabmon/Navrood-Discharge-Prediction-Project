{
 "cells": [
  {
   "cell_type": "code",
   "execution_count": 1,
   "metadata": {},
   "outputs": [],
   "source": [
    "import numpy as np\n",
    "import pandas as pd\n",
    "import seaborn as sns\n",
    "import matplotlib.pyplot as plt"
   ]
  },
  {
   "cell_type": "code",
   "execution_count": 2,
   "metadata": {},
   "outputs": [],
   "source": [
    "import warnings\n",
    "warnings.filterwarnings('ignore')\n"
   ]
  },
  {
   "cell_type": "code",
   "execution_count": 3,
   "metadata": {},
   "outputs": [],
   "source": [
    "df = pd.read_csv('navrood.csv')"
   ]
  },
  {
   "cell_type": "code",
   "execution_count": null,
   "metadata": {},
   "outputs": [],
   "source": [
    "df.head()"
   ]
  },
  {
   "cell_type": "code",
   "execution_count": 4,
   "metadata": {},
   "outputs": [
    {
     "data": {
      "text/plain": [
       "<bound method DataFrame.info of             Date    Qt-1      Pt      Qt\n",
       "0     1994-09-24   2.170   0.000   2.170\n",
       "1     1994-09-25   2.170   0.000   2.170\n",
       "2     1994-09-26   2.170   0.000   2.170\n",
       "3     1994-09-27   2.170   0.000   2.170\n",
       "4     1994-09-28   2.170   0.000   2.100\n",
       "...          ...     ...     ...     ...\n",
       "9490  2020-09-17   2.421   5.935   1.970\n",
       "9491  2020-09-18   1.970   0.164   1.850\n",
       "9492  2020-09-19   1.850   0.000   1.740\n",
       "9493  2020-09-20   1.740  68.355  15.000\n",
       "9494  2020-09-21  15.000   5.109   0.935\n",
       "\n",
       "[9495 rows x 4 columns]>"
      ]
     },
     "execution_count": 4,
     "metadata": {},
     "output_type": "execute_result"
    }
   ],
   "source": [
    "df.info"
   ]
  },
  {
   "cell_type": "code",
   "execution_count": 8,
   "metadata": {},
   "outputs": [
    {
     "data": {
      "text/plain": [
       "0"
      ]
     },
     "execution_count": 8,
     "metadata": {},
     "output_type": "execute_result"
    }
   ],
   "source": [
    "df['Date'].isnull().sum()\n",
    "df['Qt-1'].isnull().sum()\n",
    "df['Pt'].isnull().sum()\n",
    "df['Qt'].isnull().sum()"
   ]
  },
  {
   "cell_type": "code",
   "execution_count": 4,
   "metadata": {},
   "outputs": [],
   "source": [
    "df['Date'] = pd.to_datetime(df['Date'])"
   ]
  },
  {
   "cell_type": "code",
   "execution_count": 8,
   "metadata": {},
   "outputs": [
    {
     "data": {
      "text/html": [
       "<div>\n",
       "<style scoped>\n",
       "    .dataframe tbody tr th:only-of-type {\n",
       "        vertical-align: middle;\n",
       "    }\n",
       "\n",
       "    .dataframe tbody tr th {\n",
       "        vertical-align: top;\n",
       "    }\n",
       "\n",
       "    .dataframe thead th {\n",
       "        text-align: right;\n",
       "    }\n",
       "</style>\n",
       "<table border=\"1\" class=\"dataframe\">\n",
       "  <thead>\n",
       "    <tr style=\"text-align: right;\">\n",
       "      <th></th>\n",
       "      <th>Date</th>\n",
       "      <th>Qt-1</th>\n",
       "      <th>Pt</th>\n",
       "      <th>Qt</th>\n",
       "    </tr>\n",
       "  </thead>\n",
       "  <tbody>\n",
       "    <tr>\n",
       "      <th>0</th>\n",
       "      <td>1994-09-24</td>\n",
       "      <td>2.17</td>\n",
       "      <td>0.0</td>\n",
       "      <td>2.17</td>\n",
       "    </tr>\n",
       "    <tr>\n",
       "      <th>1</th>\n",
       "      <td>1994-09-25</td>\n",
       "      <td>2.17</td>\n",
       "      <td>0.0</td>\n",
       "      <td>2.17</td>\n",
       "    </tr>\n",
       "    <tr>\n",
       "      <th>2</th>\n",
       "      <td>1994-09-26</td>\n",
       "      <td>2.17</td>\n",
       "      <td>0.0</td>\n",
       "      <td>2.17</td>\n",
       "    </tr>\n",
       "    <tr>\n",
       "      <th>3</th>\n",
       "      <td>1994-09-27</td>\n",
       "      <td>2.17</td>\n",
       "      <td>0.0</td>\n",
       "      <td>2.17</td>\n",
       "    </tr>\n",
       "    <tr>\n",
       "      <th>4</th>\n",
       "      <td>1994-09-28</td>\n",
       "      <td>2.17</td>\n",
       "      <td>0.0</td>\n",
       "      <td>2.10</td>\n",
       "    </tr>\n",
       "  </tbody>\n",
       "</table>\n",
       "</div>"
      ],
      "text/plain": [
       "        Date  Qt-1   Pt    Qt\n",
       "0 1994-09-24  2.17  0.0  2.17\n",
       "1 1994-09-25  2.17  0.0  2.17\n",
       "2 1994-09-26  2.17  0.0  2.17\n",
       "3 1994-09-27  2.17  0.0  2.17\n",
       "4 1994-09-28  2.17  0.0  2.10"
      ]
     },
     "execution_count": 8,
     "metadata": {},
     "output_type": "execute_result"
    }
   ],
   "source": [
    "df.head()"
   ]
  },
  {
   "cell_type": "code",
   "execution_count": 5,
   "metadata": {},
   "outputs": [],
   "source": [
    "df['Year'] = df['Date'].apply(lambda x: x.year)\n",
    "df['Month'] = df['Date'].apply(lambda x: x.month)\n",
    "df['Day'] = df['Date'].apply(lambda x: x.day)\n",
    "df = df.drop('Date' , axis=1)"
   ]
  },
  {
   "cell_type": "code",
   "execution_count": 14,
   "metadata": {},
   "outputs": [
    {
     "data": {
      "image/png": "[encoded data removed]",
      "text/plain": [
       "<Figure size 576x432 with 2 Axes>"
      ]
     },
     "metadata": {
      "needs_background": "light"
     },
     "output_type": "display_data"
    }
   ],
   "source": [
    "plt.figure(figsize=(8, 6))\n",
    "scatter = plt.scatter(df['Qt-1'], df['Qt'], c=df['Pt'], cmap='viridis')\n",
    "plt.colorbar(scatter, label='Rainfall (Pt)')\n",
    "plt.xlabel('Pre-Rain (Qt-1)')\n",
    "plt.ylabel('Post-Rain (Qt)')\n",
    "plt.title('Post-Rain vs Pre-Rain Discharge Flow with Rainfall Intensity')\n",
    "plt.show()"
   ]
  },
  {
   "cell_type": "code",
   "execution_count": 11,
   "metadata": {},
   "outputs": [
    {
     "data": {
      "image/png": "[encoded data removed]",
      "text/plain": [
       "<Figure size 432x288 with 1 Axes>"
      ]
     },
     "metadata": {
      "needs_background": "light"
     },
     "output_type": "display_data"
    }
   ],
   "source": [
    "Q1 = df['Pt'].quantile(0.25)\n",
    "Q3 = df['Pt'].quantile(0.75)\n",
    "IQR = Q3 - Q1\n",
    "\n",
    "outliers = df[(df['Pt'] < Q1 - 1.5*IQR) | (df['Pt'] > Q3 + 1.5*IQR)]\n",
    "\n",
    "sns.boxplot(x=df['Pt'], color='#affcff')\n",
    "\n",
    "\n",
    "for i in outliers.index:\n",
    "    plt.text(df.loc[i, 'Pt'], 0, str(i), horizontalalignment='center', fontsize=8, color='#ff0a21')\n",
    "\n",
    "plt.title('Boxplot of Pt with Outlier Annotations', fontsize=16)\n",
    "plt.show()"
   ]
  },
  {
   "cell_type": "code",
   "execution_count": 34,
   "metadata": {},
   "outputs": [
    {
     "data": {
      "image/png": "[encoded data removed]",
      "text/plain": [
       "<Figure size 576x360 with 1 Axes>"
      ]
     },
     "metadata": {
      "needs_background": "light"
     },
     "output_type": "display_data"
    }
   ],
   "source": [
    "plt.figure(figsize=(8, 5))\n",
    "plt.scatter(df['Qt-1'], df['Pt'], alpha=0.7, color='navy')\n",
    "plt.title('Scatter Plot of Qt-1 vs Pt', fontsize=16)\n",
    "plt.xlabel('Qt-1', fontsize=14)\n",
    "plt.ylabel('Pt', fontsize=14)\n",
    "plt.show()\n",
    "\n"
   ]
  },
  {
   "cell_type": "markdown",
   "metadata": {},
   "source": [
    "A majority of the data points are clustered near the lower ranges of Qt-1 (0-20) and Pt (0-10). This suggests that smaller values are more frequent in both features."
   ]
  },
  {
   "cell_type": "markdown",
   "metadata": {},
   "source": [
    "There appears to be a negative correlation: as Qt-1 increases, the values of Pt tend to decrease. However, this relationship is not strictly linear."
   ]
  },
  {
   "cell_type": "code",
   "execution_count": null,
   "metadata": {},
   "outputs": [],
   "source": [
    "df.head"
   ]
  },
  {
   "cell_type": "code",
   "execution_count": 16,
   "metadata": {},
   "outputs": [
    {
     "data": {
      "image/png": "[encoded data removed]",
      "text/plain": [
       "<Figure size 720x576 with 2 Axes>"
      ]
     },
     "metadata": {
      "needs_background": "light"
     },
     "output_type": "display_data"
    }
   ],
   "source": [
    "cov_matrix = df[['Qt', 'Qt-1', 'Pt']].cov()\n",
    "plt.figure(figsize=(10, 8))\n",
    "sns.heatmap(cov_matrix, annot=True, cmap='coolwarm', linewidths=0.5)\n",
    "plt.title('Covarianc Matrix Heatmap')\n",
    "plt.show()"
   ]
  },
  {
   "cell_type": "code",
   "execution_count": 19,
   "metadata": {},
   "outputs": [
    {
     "name": "stdout",
     "output_type": "stream",
     "text": [
      "\n",
      "Correlation Matrix:\n",
      "            Qt      Qt-1        Pt\n",
      "Qt    1.000000  0.713803  0.464273\n",
      "Qt-1  0.713803  1.000000  0.114413\n",
      "Pt    0.464273  0.114413  1.000000\n"
     ]
    }
   ],
   "source": [
    "corr_matrix = df[['Qt', 'Qt-1', 'Pt']].corr()\n",
    "print(\"\\nCorrelation Matrix:\")\n",
    "print(corr_matrix)"
   ]
  },
  {
   "cell_type": "code",
   "execution_count": 20,
   "metadata": {},
   "outputs": [
    {
     "data": {
      "image/png": "[encoded data removed]",
      "text/plain": [
       "<Figure size 720x576 with 2 Axes>"
      ]
     },
     "metadata": {
      "needs_background": "light"
     },
     "output_type": "display_data"
    }
   ],
   "source": [
    "plt.figure(figsize=(10, 8))\n",
    "sns.heatmap(corr_matrix, annot=True, cmap='coolwarm', linewidths=0.5)\n",
    "plt.title('Correlation Matrix Heatmap')\n",
    "plt.show()"
   ]
  },
  {
   "cell_type": "markdown",
   "metadata": {},
   "source": [
    " ‘Qt’ has a strong positive correlation with ‘Qt-1’ (0.71), indicating that as ‘Qt-1’ increases, ‘Qt’ also tends to increase. as it was expected..."
   ]
  },
  {
   "cell_type": "code",
   "execution_count": 6,
   "metadata": {},
   "outputs": [],
   "source": [
    "def assign_season(month):\n",
    "    if month in [12, 1, 2]:\n",
    "        return '4'\n",
    "    elif month in [3, 4, 5]:\n",
    "        return '1'\n",
    "    elif month in [6, 7, 8]:\n",
    "        return '2'\n",
    "    else:\n",
    "        return '3'"
   ]
  },
  {
   "cell_type": "code",
   "execution_count": 7,
   "metadata": {},
   "outputs": [],
   "source": [
    "df['Season'] = df['Month'].apply(assign_season)"
   ]
  },
  {
   "cell_type": "code",
   "execution_count": 23,
   "metadata": {},
   "outputs": [
    {
     "data": {
      "text/html": [
       "<div>\n",
       "<style scoped>\n",
       "    .dataframe tbody tr th:only-of-type {\n",
       "        vertical-align: middle;\n",
       "    }\n",
       "\n",
       "    .dataframe tbody tr th {\n",
       "        vertical-align: top;\n",
       "    }\n",
       "\n",
       "    .dataframe thead th {\n",
       "        text-align: right;\n",
       "    }\n",
       "</style>\n",
       "<table border=\"1\" class=\"dataframe\">\n",
       "  <thead>\n",
       "    <tr style=\"text-align: right;\">\n",
       "      <th></th>\n",
       "      <th>Qt-1</th>\n",
       "      <th>Pt</th>\n",
       "      <th>Qt</th>\n",
       "      <th>Year</th>\n",
       "      <th>Month</th>\n",
       "      <th>Day</th>\n",
       "      <th>Season</th>\n",
       "    </tr>\n",
       "  </thead>\n",
       "  <tbody>\n",
       "    <tr>\n",
       "      <th>0</th>\n",
       "      <td>2.17</td>\n",
       "      <td>0.0</td>\n",
       "      <td>2.17</td>\n",
       "      <td>1994</td>\n",
       "      <td>9</td>\n",
       "      <td>24</td>\n",
       "      <td>3</td>\n",
       "    </tr>\n",
       "    <tr>\n",
       "      <th>1</th>\n",
       "      <td>2.17</td>\n",
       "      <td>0.0</td>\n",
       "      <td>2.17</td>\n",
       "      <td>1994</td>\n",
       "      <td>9</td>\n",
       "      <td>25</td>\n",
       "      <td>3</td>\n",
       "    </tr>\n",
       "    <tr>\n",
       "      <th>2</th>\n",
       "      <td>2.17</td>\n",
       "      <td>0.0</td>\n",
       "      <td>2.17</td>\n",
       "      <td>1994</td>\n",
       "      <td>9</td>\n",
       "      <td>26</td>\n",
       "      <td>3</td>\n",
       "    </tr>\n",
       "    <tr>\n",
       "      <th>3</th>\n",
       "      <td>2.17</td>\n",
       "      <td>0.0</td>\n",
       "      <td>2.17</td>\n",
       "      <td>1994</td>\n",
       "      <td>9</td>\n",
       "      <td>27</td>\n",
       "      <td>3</td>\n",
       "    </tr>\n",
       "    <tr>\n",
       "      <th>4</th>\n",
       "      <td>2.17</td>\n",
       "      <td>0.0</td>\n",
       "      <td>2.10</td>\n",
       "      <td>1994</td>\n",
       "      <td>9</td>\n",
       "      <td>28</td>\n",
       "      <td>3</td>\n",
       "    </tr>\n",
       "  </tbody>\n",
       "</table>\n",
       "</div>"
      ],
      "text/plain": [
       "   Qt-1   Pt    Qt  Year  Month  Day Season\n",
       "0  2.17  0.0  2.17  1994      9   24      3\n",
       "1  2.17  0.0  2.17  1994      9   25      3\n",
       "2  2.17  0.0  2.17  1994      9   26      3\n",
       "3  2.17  0.0  2.17  1994      9   27      3\n",
       "4  2.17  0.0  2.10  1994      9   28      3"
      ]
     },
     "execution_count": 23,
     "metadata": {},
     "output_type": "execute_result"
    }
   ],
   "source": [
    "df.head()"
   ]
  },
  {
   "cell_type": "code",
   "execution_count": 8,
   "metadata": {},
   "outputs": [],
   "source": [
    "df['Season']=df['Season'].astype(int)"
   ]
  },
  {
   "cell_type": "code",
   "execution_count": 31,
   "metadata": {},
   "outputs": [
    {
     "name": "stdout",
     "output_type": "stream",
     "text": [
      "Average Rainfall by Season:\n",
      "Season\n",
      "1    2.262058\n",
      "2    1.535610\n",
      "3    3.621317\n",
      "4    2.252412\n",
      "Name: Pt, dtype: float64\n"
     ]
    },
    {
     "data": {
      "image/png": "[encoded data removed]",
      "text/plain": [
       "<Figure size 432x288 with 1 Axes>"
      ]
     },
     "metadata": {
      "needs_background": "light"
     },
     "output_type": "display_data"
    }
   ],
   "source": [
    "seasonal_rainfall = df.groupby('Season')['Pt'].mean()\n",
    "print(\"Average Rainfall by Season:\")\n",
    "print(seasonal_rainfall)\n",
    "\n",
    "#Plotting with enhancements\n",
    "fig, ax = plt.subplots()\n",
    "bars = ax.bar(seasonal_rainfall.index, seasonal_rainfall, color=['#1f77b4', '#ff7f0e', '#2ca02c', '#d62728'])\n",
    "\n",
    "# Adding data labels\n",
    "for bar in bars:\n",
    "    yval = bar.get_height()\n",
    "    ax.text(bar.get_x() + bar.get_width()/2, yval, round(yval, 2), ha='center', va='bottom')\n",
    "\n",
    "# Customizing the plot\n",
    "ax.set_title('Average Rainfall by Season', fontsize=14, fontweight='bold')\n",
    "ax.set_xlabel('Season', fontsize=12)\n",
    "ax.set_ylabel('Average Rainfall (Pt)', fontsize=12)\n",
    "ax.grid(True, linestyle='--', alpha=0.7)\n",
    "\n",
    "plt.show()"
   ]
  },
  {
   "cell_type": "code",
   "execution_count": 34,
   "metadata": {},
   "outputs": [
    {
     "data": {
      "image/png": "[encoded data removed]",
      "text/plain": [
       "<Figure size 576x432 with 2 Axes>"
      ]
     },
     "metadata": {
      "needs_background": "light"
     },
     "output_type": "display_data"
    }
   ],
   "source": [
    "corr_matrix = df[['Qt', 'Qt-1', 'Pt','Season']].corr()\n",
    "plt.figure(figsize=(8, 6))\n",
    "sns.heatmap(corr_matrix, annot=True, cmap='coolwarm', fmt='.2f')\n",
    "plt.title('Correlation Matrix Including All Seasons')\n",
    "plt.show()"
   ]
  },
  {
   "cell_type": "markdown",
   "metadata": {},
   "source": [
    "Since there’s a moderate linear relationship between Qt and the features, starting with a simple linear regression model is reasonable. We’ll also explore regularized linear regression (Ridge and Lasso) to handle potential multicollinearity."
   ]
  },
  {
   "cell_type": "markdown",
   "metadata": {},
   "source": [
    "Linear Regression: As our baseline model."
   ]
  },
  {
   "cell_type": "code",
   "execution_count": 15,
   "metadata": {},
   "outputs": [],
   "source": [
    "from sklearn.model_selection import KFold, cross_val_score\n",
    "from sklearn.linear_model import LinearRegression\n",
    "from sklearn.metrics import mean_squared_error, r2_score"
   ]
  },
  {
   "cell_type": "markdown",
   "metadata": {},
   "source": [
    "Using K-Fold Cross-Validation will help evaluate the model’s performance by dividing the dataset into multiple training and testing sets."
   ]
  },
  {
   "cell_type": "markdown",
   "metadata": {},
   "source": [
    "Linear Regression is used to predict Qt.KFold with 5 splits ensures the model is tested on different parts of the data.cross_val_score is used with negative mean squared error (scoring='neg_mean_squared_error'), and the square root is taken to get RMSE."
   ]
  },
  {
   "cell_type": "code",
   "execution_count": null,
   "metadata": {},
   "outputs": [
    {
     "name": "stdout",
     "output_type": "stream",
     "text": [
      "Linear Regression with Original Features:\n",
      "Mean RMSE: 2.2367\n",
      "Standard Deviation of RMSE: 0.3215\n",
      "Mean R² Score: 0.6598\n",
      "Standard Deviation of R² Score: 0.0171\n"
     ]
    }
   ],
   "source": [
    "\n",
    "from sklearn.linear_model import LinearRegression\n",
    "\n",
    "\n",
    "\n",
    "X = df[['Qt-1', 'Pt', 'Season']].values\n",
    "y = df['Qt'].values\n",
    "\n",
    "\n",
    "# Initialize the model\n",
    "model = LinearRegression()\n",
    "\n",
    "# Set up K-Fold Cross-Validation with 5 splits\n",
    "kf = KFold(n_splits=5, shuffle=True, random_state=42)\n",
    "rmse_scores_L = []\n",
    "r2_scores_L = []\n",
    "\n",
    "\n",
    "for train_index, test_index in kf.split(X):\n",
    "    X_train, X_test = X[train_index], X[test_index]\n",
    "    y_train, y_test = y[train_index], y[test_index]\n",
    "    \n",
    "    # Train the model\n",
    "    model.fit(X_train, y_train)\n",
    "    \n",
    "    # Predictions\n",
    "    y_pred = model.predict(X_test)\n",
    "    \n",
    "    # Evaluation\n",
    "    rmse = np.sqrt(mean_squared_error(y_test, y_pred))\n",
    "    r2 = r2_score(y_test, y_pred)\n",
    "    \n",
    "    rmse_scores_L.append(rmse)\n",
    "    r2_scores_L.append(r2)\n",
    "\n",
    "# Calculate mean and standard deviation for RMSE and R² scores\n",
    "mean_rmse = np.mean(rmse_scores_L)\n",
    "std_rmse = np.std(rmse_scores_L)\n",
    "mean_r2 = np.mean(r2_scores_L)\n",
    "std_r2 = np.std(r2_scores_L)\n",
    "\n",
    "# Display results\n",
    "print(\"Linear Regression with Original Features:\")\n",
    "print(f\"Mean RMSE: {mean_rmse:.4f}\")\n",
    "print(f\"Standard Deviation of RMSE: {std_rmse:.4f}\")\n",
    "print(f\"Mean R² Score: {mean_r2:.4f}\")\n",
    "print(f\"Standard Deviation of R² Score: {std_r2:.4f}\")\n"
   ]
  },
  {
   "cell_type": "markdown",
   "metadata": {},
   "source": [
    "trying all the above this time with polynomial features and standard scalling"
   ]
  },
  {
   "cell_type": "code",
   "execution_count": null,
   "metadata": {},
   "outputs": [
    {
     "name": "stdout",
     "output_type": "stream",
     "text": [
      "Linear Regression Results with K-Fold Cross-Validation using polynomial feature:\n",
      "Mean RMSE: 2.2367\n",
      "Standard Deviation of RMSE: 0.3215\n",
      "Mean R² Score: 0.6598\n",
      "Standard Deviation of R² Score: 0.0171\n"
     ]
    }
   ],
   "source": [
    "\n",
    "from sklearn.preprocessing import PolynomialFeatures\n",
    "\n",
    "\n",
    "\n",
    "X1 = df[['Qt-1', 'Pt', 'Season']].values\n",
    "y = df['Qt'].values\n",
    "\n",
    "poly = PolynomialFeatures(degree=2, include_bias=False)\n",
    "X_poly = poly.fit_transform(X1)\n",
    "\n",
    "\n",
    "model = LinearRegression()\n",
    "\n",
    "\n",
    "kf = KFold(n_splits=5, shuffle=True, random_state=42)\n",
    "rmse_scores_L = []\n",
    "r2_scores_L = []\n",
    "\n",
    "\n",
    "for train_index, test_index in kf.split(X1):\n",
    "    X1_train, X1_test = X1[train_index], X1[test_index]\n",
    "    y_train, y_test = y[train_index], y[test_index]\n",
    "    \n",
    "    # Train the model\n",
    "    model.fit(X1_train, y_train)\n",
    "    \n",
    "    # Predictions\n",
    "    y_pred = model.predict(X1_test)\n",
    "    \n",
    "    # Evaluation\n",
    "    rmse = np.sqrt(mean_squared_error(y_test, y_pred))\n",
    "    r2 = r2_score(y_test, y_pred)\n",
    "    \n",
    "    rmse_scores_L.append(rmse)\n",
    "    r2_scores_L.append(r2)\n",
    "\n",
    "\n",
    "mean_rmse = np.mean(rmse_scores_L)\n",
    "std_rmse = np.std(rmse_scores_L)\n",
    "mean_r2 = np.mean(r2_scores_L)\n",
    "std_r2 = np.std(r2_scores_L)\n",
    "\n",
    "# Display simple Linear Regression with the Polynomial features added\n",
    "print(\"Linear Regression Results with K-Fold Cross-Validation using polynomial feature:\")\n",
    "print(f\"Mean RMSE: {mean_rmse:.4f}\")\n",
    "print(f\"Standard Deviation of RMSE: {std_rmse:.4f}\")\n",
    "print(f\"Mean R² Score: {mean_r2:.4f}\")\n",
    "print(f\"Standard Deviation of R² Score: {std_r2:.4f}\")\n"
   ]
  },
  {
   "cell_type": "code",
   "execution_count": 24,
   "metadata": {},
   "outputs": [
    {
     "name": "stdout",
     "output_type": "stream",
     "text": [
      "Linear Regression Results with K-Fold Cross-Validation using polynomial feature and standard scaling:\n",
      "Mean RMSE: 2.2367\n",
      "Standard Deviation of RMSE: 0.3215\n",
      "Mean R² Score: 0.6598\n",
      "Standard Deviation of R² Score: 0.0171\n"
     ]
    }
   ],
   "source": [
    "\n",
    "from sklearn.preprocessing import PolynomialFeatures\n",
    "from sklearn.preprocessing import RobustScaler\n",
    "from sklearn.preprocessing import StandardScaler\n",
    "\n",
    "\n",
    "\n",
    "X1 = df[['Qt-1', 'Pt', 'Season']].values\n",
    "y = df['Qt'].values\n",
    "\n",
    "scaler = RobustScaler()\n",
    "X_scaled = scaler.fit_transform(X1)\n",
    "\n",
    "poly = PolynomialFeatures(degree=2, include_bias=False)\n",
    "X_poly = poly.fit_transform(X_scaled)\n",
    "\n",
    "\n",
    "\n",
    "model = LinearRegression()\n",
    "\n",
    "kf = KFold(n_splits=5, shuffle=True, random_state=42)\n",
    "rmse_scores_L = []\n",
    "r2_scores_L = []\n",
    "\n",
    "\n",
    "for train_index, test_index in kf.split(X1):\n",
    "    X1_train, X1_test = X1[train_index], X1[test_index]\n",
    "    y_train, y_test = y[train_index], y[test_index]\n",
    "    \n",
    "    # Train the model\n",
    "    model.fit(X1_train, y_train)\n",
    "    \n",
    "    # Predictions\n",
    "    y_pred = model.predict(X1_test)\n",
    "    \n",
    "    # Evaluation\n",
    "    rmse = np.sqrt(mean_squared_error(y_test, y_pred))\n",
    "    r2 = r2_score(y_test, y_pred)\n",
    "    \n",
    "    rmse_scores_L.append(rmse)\n",
    "    r2_scores_L.append(r2)\n",
    "\n",
    "\n",
    "mean_rmse = np.mean(rmse_scores_L)\n",
    "std_rmse = np.std(rmse_scores_L)\n",
    "mean_r2 = np.mean(r2_scores_L)\n",
    "std_r2 = np.std(r2_scores_L)\n",
    "\n",
    "# Display simple Linear Regression with the Polynomial features and Standard scallin added\n",
    "print(\"Linear Regression Results with K-Fold Cross-Validation using polynomial feature and standard scaling:\")\n",
    "print(f\"Mean RMSE: {mean_rmse:.4f}\")\n",
    "print(f\"Standard Deviation of RMSE: {std_rmse:.4f}\")\n",
    "print(f\"Mean R² Score: {mean_r2:.4f}\")\n",
    "print(f\"Standard Deviation of R² Score: {std_r2:.4f}\")\n"
   ]
  },
  {
   "cell_type": "markdown",
   "metadata": {},
   "source": [
    "trying Rdige and Lasso this time with all the same changes"
   ]
  },
  {
   "cell_type": "code",
   "execution_count": null,
   "metadata": {},
   "outputs": [
    {
     "name": "stdout",
     "output_type": "stream",
     "text": [
      "Lasso Best Alpha: 0.05963623316594643\n",
      "Lasso Best R2: 0.7222\n",
      "Ridge Best Alpha: 232.99518105153672\n",
      "Ridge Best R2: 0.7214\n",
      "Lasso RMSE: 1.9858\n",
      "Ridge RMSE: 1.9830\n"
     ]
    }
   ],
   "source": [
    "\n",
    "from sklearn.linear_model import Lasso, Ridge\n",
    "from sklearn.model_selection import GridSearchCV, KFold\n",
    "from sklearn.metrics import r2_score, mean_squared_error\n",
    "\n",
    "\n",
    "X = df[['Qt-1', 'Pt', 'Season']].values\n",
    "y = df['Qt'].values\n",
    "\n",
    "\n",
    "scaler = StandardScaler()\n",
    "X_scaled = scaler.fit_transform(X)\n",
    "\n",
    "poly = PolynomialFeatures(degree=2, include_bias=False)\n",
    "X_poly = poly.fit_transform(X_scaled)\n",
    "\n",
    "# Define models for L1 (Lasso) and L2 (Ridge) regularization\n",
    "lasso = Lasso(max_iter=10000, random_state=42)\n",
    "ridge = Ridge(max_iter=10000, random_state=42)\n",
    "\n",
    "# Set up parameter grid for alpha (regularization strength)\n",
    "param_grid = {'alpha': np.logspace(-4, 4, 50)}\n",
    "\n",
    "# Cross-validation setup\n",
    "cv = KFold(n_splits=5, shuffle=True, random_state=42)\n",
    "\n",
    "# Grid search for Lasso\n",
    "lasso_grid = GridSearchCV(lasso, param_grid, scoring='r2', cv=cv, n_jobs=-1)\n",
    "lasso_grid.fit(X_poly, y)\n",
    "lasso_best_model = lasso_grid.best_estimator_\n",
    "lasso_best_alpha = lasso_grid.best_params_['alpha']\n",
    "\n",
    "# Grid search for Ridge\n",
    "ridge_grid = GridSearchCV(ridge, param_grid, scoring='r2', cv=cv, n_jobs=-1)\n",
    "ridge_grid.fit(X_poly, y)\n",
    "ridge_best_model = ridge_grid.best_estimator_\n",
    "ridge_best_alpha = ridge_grid.best_params_['alpha']\n",
    "\n",
    "\n",
    "lasso_cv_results = lasso_grid.cv_results_\n",
    "ridge_cv_results = ridge_grid.cv_results_\n",
    "\n",
    "# Best R^2 scores\n",
    "lasso_best_r2 = lasso_grid.best_score_\n",
    "ridge_best_r2 = ridge_grid.best_score_\n",
    "\n",
    "\n",
    "print(f\"Lasso Best Alpha: {lasso_best_alpha}\")\n",
    "print(f\"Lasso Best R2: {lasso_best_r2:.4f}\")\n",
    "\n",
    "print(f\"Ridge Best Alpha: {ridge_best_alpha}\")\n",
    "print(f\"Ridge Best R2: {ridge_best_r2:.4f}\")\n",
    "\n",
    "\n",
    "y_pred_lasso = lasso_best_model.predict(X_poly)\n",
    "y_pred_ridge = ridge_best_model.predict(X_poly)\n",
    "\n",
    "print(f\"Lasso RMSE: {np.sqrt(mean_squared_error(y, y_pred_lasso)):.4f}\")\n",
    "print(f\"Ridge RMSE: {np.sqrt(mean_squared_error(y, y_pred_ridge)):.4f}\")\n"
   ]
  },
  {
   "cell_type": "code",
   "execution_count": null,
   "metadata": {},
   "outputs": [
    {
     "name": "stdout",
     "output_type": "stream",
     "text": [
      "XGBoost Results with 5-Fold CV, Polynomial Features and Standard Scaling:\n",
      "Mean RMSE: 2.0503, Standard Deviation of RMSE: 0.3407\n",
      "Mean R² Score: 0.7150, Standard Deviation of R² Score: 0.0266\n",
      "\n",
      "Random Forest Results with 5-Fold CV, Polynomial Features and Standard Scaling:\n",
      "Mean RMSE: 2.0322, Standard Deviation of RMSE: 0.3503\n",
      "Mean R² Score: 0.7199, Standard Deviation of R² Score: 0.0296\n"
     ]
    }
   ],
   "source": [
    "from xgboost import XGBRegressor\n",
    "from sklearn.ensemble import RandomForestRegressor\n",
    "from sklearn.preprocessing import StandardScaler, RobustScaler, PolynomialFeatures\n",
    "from sklearn.model_selection import GridSearchCV, KFold\n",
    "from sklearn.metrics import r2_score, mean_squared_error\n",
    "\n",
    "\n",
    "X = df[['Qt-1', 'Pt','Season']].values\n",
    "y = df['Qt'].values\n",
    "\n",
    "\n",
    "scaler = StandardScaler()\n",
    "X_scaled = scaler.fit_transform(X)\n",
    "\n",
    "poly = PolynomialFeatures(degree=2, include_bias=False)\n",
    "X_poly = poly.fit_transform(X_scaled)\n",
    "\n",
    "\n",
    "kf = KFold(n_splits=5, shuffle=True, random_state=42)\n",
    "\n",
    "\n",
    "xgb_model = XGBRegressor(\n",
    "    n_estimators=100,\n",
    "    learning_rate=0.1,\n",
    "    max_depth=5,\n",
    "    random_state=42\n",
    ")\n",
    "\n",
    "rf_model = RandomForestRegressor(\n",
    "    n_estimators=100,\n",
    "    max_depth=10,\n",
    "    random_state=42\n",
    ")\n",
    "\n",
    "# Lists for scores\n",
    "rmse_scores_xgb = []\n",
    "r2_scores_xgb = []\n",
    "rmse_scores_rf = []\n",
    "r2_scores_rf = []\n",
    "\n",
    "# Cross-validation for XGBoost\n",
    "for train_index, test_index in kf.split(X_poly):\n",
    "    X_train, X_test = X_poly[train_index], X_poly[test_index]\n",
    "    y_train, y_test = y[train_index], y[test_index]\n",
    "    \n",
    "    xgb_model.fit(X_train, y_train)\n",
    "    y_pred = xgb_model.predict(X_test)\n",
    "    \n",
    "    rmse = np.sqrt(mean_squared_error(y_test, y_pred))\n",
    "    r2 = r2_score(y_test, y_pred)\n",
    "    \n",
    "    rmse_scores_xgb.append(rmse)\n",
    "    r2_scores_xgb.append(r2)\n",
    "\n",
    "# Calculate and print XGBoost results\n",
    "mean_rmse_xgb = np.mean(rmse_scores_xgb)\n",
    "std_rmse_xgb = np.std(rmse_scores_xgb)\n",
    "mean_r2_xgb = np.mean(r2_scores_xgb)\n",
    "std_r2_xgb = np.std(r2_scores_xgb)\n",
    "\n",
    "print(\"XGBoost Results with 5-Fold CV, Polynomial Features and Standard Scaling:\")\n",
    "print(f\"Mean RMSE: {mean_rmse_xgb:.4f}, Standard Deviation of RMSE: {std_rmse_xgb:.4f}\")\n",
    "print(f\"Mean R² Score: {mean_r2_xgb:.4f}, Standard Deviation of R² Score: {std_r2_xgb:.4f}\")\n",
    "\n",
    "# Cross-validation for Random Forest\n",
    "for train_index, test_index in kf.split(X_poly):\n",
    "    X_train, X_test = X_poly[train_index], X_poly[test_index]\n",
    "    y_train, y_test = y[train_index], y[test_index]\n",
    "    \n",
    "    rf_model.fit(X_train, y_train)\n",
    "    y_pred = rf_model.predict(X_test)\n",
    "    \n",
    "    rmse = np.sqrt(mean_squared_error(y_test, y_pred))\n",
    "    r2 = r2_score(y_test, y_pred)\n",
    "    \n",
    "    rmse_scores_rf.append(rmse)\n",
    "    r2_scores_rf.append(r2)\n",
    "\n",
    "\n",
    "mean_rmse_rf = np.mean(rmse_scores_rf)\n",
    "std_rmse_rf = np.std(rmse_scores_rf)\n",
    "mean_r2_rf = np.mean(r2_scores_rf)\n",
    "std_r2_rf = np.std(r2_scores_rf)\n",
    "\n",
    "print(\"\\nRandom Forest Results with 5-Fold CV, Polynomial Features and Standard Scaling:\")\n",
    "print(f\"Mean RMSE: {mean_rmse_rf:.4f}, Standard Deviation of RMSE: {std_rmse_rf:.4f}\")\n",
    "print(f\"Mean R² Score: {mean_r2_rf:.4f}, Standard Deviation of R² Score: {std_r2_rf:.4f}\")"
   ]
  },
  {
   "cell_type": "code",
   "execution_count": 11,
   "metadata": {},
   "outputs": [
    {
     "name": "stdout",
     "output_type": "stream",
     "text": [
      "Best XGBoost Parameters: {'learning_rate': 0.1, 'max_depth': 3, 'min_child_weight': 5, 'n_estimators': 100, 'subsample': 1.0}\n",
      "Best Random Forest Parameters: {'max_depth': 10, 'max_features': 'sqrt', 'min_samples_leaf': 2, 'min_samples_split': 5, 'n_estimators': 300}\n"
     ]
    }
   ],
   "source": [
    "from sklearn.model_selection import GridSearchCV\n",
    "\n",
    "# XGBoost hyperparameter tuning\n",
    "xgb_params = {\n",
    "    'n_estimators': [100, 200, 300],\n",
    "    'max_depth': [3, 4, 5, 6],\n",
    "    'learning_rate': [0.01, 0.1, 0.3],\n",
    "    'min_child_weight': [1, 3, 5],\n",
    "    'subsample': [0.8, 0.9, 1.0]\n",
    "}\n",
    "\n",
    "xgb_model = XGBRegressor(random_state=42)\n",
    "xgb_grid = GridSearchCV(xgb_model, xgb_params, cv=5, scoring='r2', n_jobs=-1)\n",
    "xgb_grid.fit(X_poly, y)\n",
    "\n",
    "# Print best parameters for XGBoost\n",
    "print(\"Best XGBoost Parameters:\", xgb_grid.best_params_)\n",
    "best_xgb = xgb_grid.best_estimator_\n",
    "\n",
    "# Random Forest hyperparameter tuning\n",
    "rf_params = {\n",
    "    'n_estimators': [100, 200, 300],\n",
    "    'max_depth': [5, 10, 15, None],\n",
    "    'min_samples_split': [2, 5, 10],\n",
    "    'min_samples_leaf': [1, 2, 4],\n",
    "    'max_features': ['auto', 'sqrt']\n",
    "}\n",
    "\n",
    "rf_model = RandomForestRegressor(random_state=42)\n",
    "rf_grid = GridSearchCV(rf_model, rf_params, cv=5, scoring='r2', n_jobs=-1)\n",
    "rf_grid.fit(X_poly, y)\n",
    "\n",
    "# Print best parameters for Random Forest\n",
    "print(\"Best Random Forest Parameters:\", rf_grid.best_params_)\n",
    "best_rf = rf_grid.best_estimator_"
   ]
  },
  {
   "cell_type": "code",
   "execution_count": null,
   "metadata": {},
   "outputs": [
    {
     "name": "stdout",
     "output_type": "stream",
     "text": [
      "\n",
      "Optimized XGBoost Results:\n",
      "Mean RMSE: 1.9925, Std: 0.3702\n",
      "Mean R² Score: 0.7310, Std: 0.0416\n",
      "\n",
      "Optimized Random Forest Results:\n",
      "Mean RMSE: 1.9702, Std: 0.3675\n",
      "Mean R² Score: 0.7378, Std: 0.0311\n",
      "\n",
      "Top 10 Most Important Features (Random Forest):\n",
      "        feature  importance\n",
      "0          Qt-1    0.207133\n",
      "5        Qt-1^2    0.181810\n",
      "6       Qt-1 Pt    0.122470\n",
      "1            Pt    0.073952\n",
      "7   Qt-1 Season    0.065631\n",
      "10         Pt^2    0.065237\n",
      "12     Pt Month    0.062619\n",
      "8    Qt-1 Month    0.057733\n",
      "9     Qt-1 Year    0.035996\n",
      "13      Pt Year    0.030702\n"
     ]
    }
   ],
   "source": [
    "X = df[['Qt-1', 'Pt', 'Season', 'Month', 'Year']].values  # \n",
    "y = df['Qt'].values\n",
    "\n",
    "scaler = StandardScaler()\n",
    "X_scaled = scaler.fit_transform(X)\n",
    "poly = PolynomialFeatures(degree=2, include_bias=False)\n",
    "X_poly = poly.fit_transform(X_scaled)\n",
    "\n",
    "\n",
    "rmse_scores_xgb = []\n",
    "r2_scores_xgb = []\n",
    "rmse_scores_rf = []\n",
    "r2_scores_rf = []\n",
    "\n",
    "\n",
    "kf = KFold(n_splits=5, shuffle=True, random_state=42)\n",
    "\n",
    "# XGBoost evaluation\n",
    "for train_index, test_index in kf.split(X_poly):\n",
    "    X_train, X_test = X_poly[train_index], X_poly[test_index]\n",
    "    y_train, y_test = y[train_index], y[test_index]\n",
    "    \n",
    "    best_xgb.fit(X_train, y_train)\n",
    "    y_pred = best_xgb.predict(X_test)\n",
    "    \n",
    "    rmse = np.sqrt(mean_squared_error(y_test, y_pred))\n",
    "    r2 = r2_score(y_test, y_pred)\n",
    "    \n",
    "    rmse_scores_xgb.append(rmse)\n",
    "    r2_scores_xgb.append(r2)\n",
    "\n",
    "# Print XGBoost results\n",
    "print(\"\\nOptimized XGBoost Results:\")\n",
    "print(f\"Mean RMSE: {np.mean(rmse_scores_xgb):.4f}, Std: {np.std(rmse_scores_xgb):.4f}\")\n",
    "print(f\"Mean R² Score: {np.mean(r2_scores_xgb):.4f}, Std: {np.std(r2_scores_xgb):.4f}\")\n",
    "\n",
    "\n",
    "for train_index, test_index in kf.split(X_poly):\n",
    "    X_train, X_test = X_poly[train_index], X_poly[test_index]\n",
    "    y_train, y_test = y[train_index], y[test_index]\n",
    "    \n",
    "    best_rf.fit(X_train, y_train)\n",
    "    y_pred = best_rf.predict(X_test)\n",
    "    \n",
    "    rmse = np.sqrt(mean_squared_error(y_test, y_pred))\n",
    "    r2 = r2_score(y_test, y_pred)\n",
    "    \n",
    "    rmse_scores_rf.append(rmse)\n",
    "    r2_scores_rf.append(r2)\n",
    "\n",
    "\n",
    "print(\"\\nOptimized Random Forest Results:\")\n",
    "print(f\"Mean RMSE: {np.mean(rmse_scores_rf):.4f}, Std: {np.std(rmse_scores_rf):.4f}\")\n",
    "print(f\"Mean R² Score: {np.mean(r2_scores_rf):.4f}, Std: {np.std(r2_scores_rf):.4f}\")\n",
    "\n",
    "# Feature importance for best model\n",
    "if np.mean(r2_scores_xgb) > np.mean(r2_scores_rf):\n",
    "    importances = best_xgb.feature_importances_\n",
    "    model_name = \"XGBoost\"\n",
    "else:\n",
    "    importances = best_rf.feature_importances_\n",
    "    model_name = \"Random Forest\"\n",
    "\n",
    "# Get feature names after polynomial transformation\n",
    "feature_names = poly.get_feature_names_out(['Qt-1', 'Pt', 'Season', 'Month', 'Year'])\n",
    "importance_df = pd.DataFrame({'feature': feature_names, 'importance': importances})\n",
    "importance_df = importance_df.sort_values('importance', ascending=False).head(10)\n",
    "\n",
    "print(f\"\\nTop 10 Most Important Features ({model_name}):\")\n",
    "print(importance_df)"
   ]
  },
  {
   "cell_type": "markdown",
   "metadata": {},
   "source": [
    "Based on the feature importance results, we can see that Qt-1, Pt interactions with Month/Season, and Qt-1 with Pt are very influential. Let's try to improve further by:\n",
    "\n",
    "Adding more temporal features and their interactions:\n",
    "\n"
   ]
  },
  {
   "cell_type": "code",
   "execution_count": 13,
   "metadata": {},
   "outputs": [],
   "source": [
    "def create_advanced_features(df):\n",
    "    # Original features\n",
    "    df['Qt-1'] = df['Qt'].shift(1)\n",
    "    df['Qt-2'] = df['Qt'].shift(2)\n",
    "    df['Qt-3'] = df['Qt'].shift(3)\n",
    "    \n",
    "    # Rolling means with different windows\n",
    "    df['Qt_roll_mean3'] = df['Qt'].rolling(window=3).mean()\n",
    "    df['Qt_roll_mean6'] = df['Qt'].rolling(window=6).mean()\n",
    "    df['Pt_roll_mean3'] = df['Pt'].rolling(window=3).mean()\n",
    "    \n",
    "    # Lag features for Pt\n",
    "    df['Pt-1'] = df['Pt'].shift(1)\n",
    "    df['Pt-2'] = df['Pt'].shift(2)\n",
    "    \n",
    "    # Seasonal interactions\n",
    "    df['Season_Qt-1'] = df['Season'] * df['Qt-1']\n",
    "    df['Season_Pt'] = df['Season'] * df['Pt']\n",
    "    df['Month_Qt-1'] = df['Month'] * df['Qt-1']\n",
    "    df['Month_Pt'] = df['Month'] * df['Pt']\n",
    "    \n",
    "    # Flow-Precipitation interactions\n",
    "    df['Qt-1_Pt'] = df['Qt-1'] * df['Pt']\n",
    "    df['Qt-1_Pt-1'] = df['Qt-1'] * df['Pt-1']\n",
    "    \n",
    "    # Rolling statistics\n",
    "    df['Qt_roll_std3'] = df['Qt'].rolling(window=3).std()\n",
    "    df['Pt_roll_std3'] = df['Pt'].rolling(window=3).std()\n",
    "    \n",
    "    return df.dropna()  # Remove rows with NaN values\n",
    "\n",
    "# Create new dataset with advanced features\n",
    "df_advanced = df.copy()\n",
    "df_advanced = create_advanced_features(df_advanced)"
   ]
  },
  {
   "cell_type": "code",
   "execution_count": null,
   "metadata": {},
   "outputs": [
    {
     "name": "stdout",
     "output_type": "stream",
     "text": [
      "Advanced XGBoost Results:\n",
      "Mean RMSE: 1.0706, Std: 0.2157\n",
      "Mean R² Score: 0.9215, Std: 0.0271\n",
      "\n",
      "Feature Importances:\n",
      "          feature  importance\n",
      "10      Season_Pt    0.374825\n",
      "6   Qt_roll_mean3    0.219969\n",
      "3              Pt    0.087487\n",
      "12       Month_Pt    0.057638\n",
      "15   Qt_roll_std3    0.037452\n",
      "13        Qt-1_Pt    0.031109\n",
      "17         Season    0.026698\n",
      "1            Qt-2    0.026046\n",
      "16   Pt_roll_std3    0.022057\n",
      "4            Pt-1    0.021764\n"
     ]
    }
   ],
   "source": [
    "features = [\n",
    "    'Qt-1', 'Qt-2', 'Qt-3', \n",
    "    'Pt', 'Pt-1', 'Pt-2',\n",
    "    'Qt_roll_mean3', 'Qt_roll_mean6', 'Pt_roll_mean3',\n",
    "    'Season_Qt-1', 'Season_Pt', \n",
    "    'Month_Qt-1', 'Month_Pt',\n",
    "    'Qt-1_Pt', 'Qt-1_Pt-1',\n",
    "    'Qt_roll_std3', 'Pt_roll_std3',\n",
    "    'Season', 'Month'\n",
    "]\n",
    "\n",
    "X = df_advanced[features].values\n",
    "y = df_advanced['Qt'].values\n",
    "\n",
    "\n",
    "scaler = StandardScaler()\n",
    "X_scaled = scaler.fit_transform(X)\n",
    "\n",
    "# Optimized XGBoost parameters based on the previous results\n",
    "xgb_model = XGBRegressor(\n",
    "    n_estimators=300,\n",
    "    max_depth=6,\n",
    "    learning_rate=0.01,\n",
    "    min_child_weight=3,\n",
    "    subsample=0.9,\n",
    "    random_state=42\n",
    ")\n",
    "\n",
    "kf = KFold(n_splits=5, shuffle=True, random_state=42)\n",
    "rmse_scores = []\n",
    "r2_scores = []\n",
    "\n",
    "for train_index, test_index in kf.split(X_scaled):\n",
    "    X_train, X_test = X_scaled[train_index], X_scaled[test_index]\n",
    "    y_train, y_test = y[train_index], y[test_index]\n",
    "    \n",
    "    xgb_model.fit(X_train, y_train)\n",
    "    y_pred = xgb_model.predict(X_test)\n",
    "    \n",
    "    rmse = np.sqrt(mean_squared_error(y_test, y_pred))\n",
    "    r2 = r2_score(y_test, y_pred)\n",
    "    \n",
    "    rmse_scores.append(rmse)\n",
    "    r2_scores.append(r2)\n",
    "\n",
    "\n",
    "print(\"Advanced XGBoost Results:\")\n",
    "print(f\"Mean RMSE: {np.mean(rmse_scores):.4f}, Std: {np.std(rmse_scores):.4f}\")\n",
    "print(f\"Mean R² Score: {np.mean(r2_scores):.4f}, Std: {np.std(r2_scores):.4f}\")\n",
    "\n",
    "\n",
    "importances = xgb_model.feature_importances_\n",
    "importance_df = pd.DataFrame({\n",
    "    'feature': features,\n",
    "    'importance': importances\n",
    "})\n",
    "importance_df = importance_df.sort_values('importance', ascending=False)\n",
    "\n",
    "print(\"\\nFeature Importances:\")\n",
    "print(importance_df.head(10))"
   ]
  },
  {
   "cell_type": "markdown",
   "metadata": {},
   "source": [
    "Best Random Forest Parameters: {'max_depth': 10, 'max_features': 'sqrt', 'min_samples_leaf': 2, 'min_samples_split': 5, 'n_estimators': 300}\n"
   ]
  },
  {
   "cell_type": "code",
   "execution_count": null,
   "metadata": {},
   "outputs": [],
   "source": []
  },
  {
   "cell_type": "code",
   "execution_count": null,
   "metadata": {},
   "outputs": [
    {
     "name": "stdout",
     "output_type": "stream",
     "text": [
      "Advanced Rf regressor Results:\n",
      "Mean RMSE: 1.2364, Std: 0.1795\n",
      "Mean R² Score: 0.8964, Std: 0.0255\n",
      "\n",
      "Feature Importances:\n",
      "          feature  importance\n",
      "6   Qt_roll_mean3    0.234846\n",
      "15   Qt_roll_std3    0.151415\n",
      "0            Qt-1    0.133681\n",
      "7   Qt_roll_mean6    0.108610\n",
      "13        Qt-1_Pt    0.088574\n",
      "1            Qt-2    0.053788\n",
      "3              Pt    0.037334\n",
      "10      Season_Pt    0.034651\n",
      "12       Month_Pt    0.034271\n",
      "9     Season_Qt-1    0.021122\n"
     ]
    }
   ],
   "source": [
    "features = [\n",
    "    'Qt-1', 'Qt-2', 'Qt-3', \n",
    "    'Pt', 'Pt-1', 'Pt-2',\n",
    "    'Qt_roll_mean3', 'Qt_roll_mean6', 'Pt_roll_mean3',\n",
    "    'Season_Qt-1', 'Season_Pt', \n",
    "    'Month_Qt-1', 'Month_Pt',\n",
    "    'Qt-1_Pt', 'Qt-1_Pt-1',\n",
    "    'Qt_roll_std3', 'Pt_roll_std3',\n",
    "    'Season', 'Month'\n",
    "]\n",
    "\n",
    "X = df_advanced[features].values\n",
    "y = df_advanced['Qt'].values\n",
    "\n",
    "scaler = StandardScaler()\n",
    "X_scaled = scaler.fit_transform(X)\n",
    "\n",
    "# Optimized XGBoost parameters based on the previous results\n",
    "Rf_model = RandomForestRegressor(\n",
    "    n_estimators=300,\n",
    "    max_depth=10,\n",
    "    max_features= 'sqrt',\n",
    "    min_samples_leaf= 2, \n",
    "    min_samples_split= 5, \n",
    "    \n",
    ")\n",
    "\n",
    "\n",
    "kf = KFold(n_splits=5, shuffle=True, random_state=42)\n",
    "rmse_scores = []\n",
    "r2_scores = []\n",
    "\n",
    "for train_index, test_index in kf.split(X_scaled):\n",
    "    X_train, X_test = X_scaled[train_index], X_scaled[test_index]\n",
    "    y_train, y_test = y[train_index], y[test_index]\n",
    "    \n",
    "    Rf_model.fit(X_train, y_train)\n",
    "    y_pred = Rf_model.predict(X_test)\n",
    "    \n",
    "    rmse = np.sqrt(mean_squared_error(y_test, y_pred))\n",
    "    r2 = r2_score(y_test, y_pred)\n",
    "    \n",
    "    rmse_scores.append(rmse)\n",
    "    r2_scores.append(r2)\n",
    "\n",
    "print(\"Advanced Rf regressor Results:\")\n",
    "print(f\"Mean RMSE: {np.mean(rmse_scores):.4f}, Std: {np.std(rmse_scores):.4f}\")\n",
    "print(f\"Mean R² Score: {np.mean(r2_scores):.4f}, Std: {np.std(r2_scores):.4f}\")\n",
    "\n",
    "\n",
    "importances = Rf_model.feature_importances_\n",
    "importance_df = pd.DataFrame({\n",
    "    'feature': features,\n",
    "    'importance': importances\n",
    "})\n",
    "importance_df = importance_df.sort_values('importance', ascending=False)\n",
    "\n",
    "print(\"\\nFeature Importances:\")\n",
    "print(importance_df.head(10))"
   ]
  },
  {
   "cell_type": "code",
   "execution_count": null,
   "metadata": {},
   "outputs": [
    {
     "name": "stdout",
     "output_type": "stream",
     "text": [
      "Lasso Results:\n",
      "Mean RMSE: 0.5898, Std: 0.0831\n",
      "Mean R² Score: 0.9755, Std: 0.0095\n",
      "\n",
      "Ridge Results:\n",
      "Mean RMSE: 0.9036, Std: 0.1258\n",
      "Mean R² Score: 0.9427, Std: 0.0220\n",
      "\n",
      "Top Lasso Feature Importances:\n",
      "          feature  importance\n",
      "6   Qt_roll_mean3    6.873044\n",
      "1            Qt-2   -2.859067\n",
      "0            Qt-1   -1.458425\n",
      "15   Qt_roll_std3    0.365034\n",
      "12       Month_Pt    0.314934\n",
      "14      Qt-1_Pt-1   -0.298331\n",
      "11     Month_Qt-1   -0.219904\n",
      "7   Qt_roll_mean6    0.058124\n",
      "9     Season_Qt-1   -0.056847\n",
      "13        Qt-1_Pt    0.045121\n",
      "\n",
      "Top Ridge Feature Importances:\n",
      "          feature  importance\n",
      "6   Qt_roll_mean3    4.084991\n",
      "1            Qt-2   -2.138625\n",
      "15   Qt_roll_std3    0.982453\n",
      "7   Qt_roll_mean6    0.941736\n",
      "14      Qt-1_Pt-1   -0.548621\n",
      "12       Month_Pt    0.428196\n",
      "11     Month_Qt-1   -0.397788\n",
      "13        Qt-1_Pt    0.311886\n",
      "2            Qt-3   -0.250481\n",
      "0            Qt-1   -0.185295\n"
     ]
    }
   ],
   "source": [
    "from sklearn.linear_model import Lasso, Ridge\n",
    "from sklearn.metrics import mean_squared_error, r2_score\n",
    "from sklearn.model_selection import KFold\n",
    "import numpy as np\n",
    "import pandas as pd\n",
    "\n",
    "# Features and target\n",
    "features = [\n",
    "    'Qt-1', 'Qt-2', 'Qt-3', \n",
    "    'Pt', 'Pt-1', 'Pt-2',\n",
    "    'Qt_roll_mean3', 'Qt_roll_mean6', 'Pt_roll_mean3',\n",
    "    'Season_Qt-1', 'Season_Pt', \n",
    "    'Month_Qt-1', 'Month_Pt',\n",
    "    'Qt-1_Pt', 'Qt-1_Pt-1',\n",
    "    'Qt_roll_std3', 'Pt_roll_std3',\n",
    "    'Season', 'Month'\n",
    "]\n",
    "\n",
    "X = df_advanced[features].values\n",
    "y = df_advanced['Qt'].values\n",
    "\n",
    "scaler = StandardScaler()\n",
    "X_scaled = scaler.fit_transform(X)\n",
    "\n",
    "\n",
    "lasso_model = Lasso(alpha=0.05963623316594643)\n",
    "ridge_model = Ridge(alpha=232.99518105153672)\n",
    "\n",
    "kf = KFold(n_splits=5, shuffle=True, random_state=42)\n",
    "\n",
    "\n",
    "lasso_rmse_scores = []\n",
    "lasso_r2_scores = []\n",
    "ridge_rmse_scores = []\n",
    "ridge_r2_scores = []\n",
    "\n",
    "for train_index, test_index in kf.split(X_scaled):\n",
    "    X_train, X_test = X_scaled[train_index], X_scaled[test_index]\n",
    "    y_train, y_test = y[train_index], y[test_index]\n",
    "    \n",
    "    # Lasso\n",
    "    lasso_model.fit(X_train, y_train)\n",
    "    lasso_pred = lasso_model.predict(X_test)\n",
    "    lasso_rmse = np.sqrt(mean_squared_error(y_test, lasso_pred))\n",
    "    lasso_r2 = r2_score(y_test, lasso_pred)\n",
    "    lasso_rmse_scores.append(lasso_rmse)\n",
    "    lasso_r2_scores.append(lasso_r2)\n",
    "    \n",
    "    # Ridge\n",
    "    ridge_model.fit(X_train, y_train)\n",
    "    ridge_pred = ridge_model.predict(X_test)\n",
    "    ridge_rmse = np.sqrt(mean_squared_error(y_test, ridge_pred))\n",
    "    ridge_r2 = r2_score(y_test, ridge_pred)\n",
    "    ridge_rmse_scores.append(ridge_rmse)\n",
    "    ridge_r2_scores.append(ridge_r2)\n",
    "\n",
    "\n",
    "print(\"Lasso Results:\")\n",
    "print(f\"Mean RMSE: {np.mean(lasso_rmse_scores):.4f}, Std: {np.std(lasso_rmse_scores):.4f}\")\n",
    "print(f\"Mean R² Score: {np.mean(lasso_r2_scores):.4f}, Std: {np.std(lasso_r2_scores):.4f}\")\n",
    "\n",
    "print(\"\\nRidge Results:\")\n",
    "print(f\"Mean RMSE: {np.mean(ridge_rmse_scores):.4f}, Std: {np.std(ridge_rmse_scores):.4f}\")\n",
    "print(f\"Mean R² Score: {np.mean(ridge_r2_scores):.4f}, Std: {np.std(ridge_r2_scores):.4f}\")\n",
    "\n",
    "# Extract feature importances (coefficients)\n",
    "lasso_coefficients = lasso_model.coef_\n",
    "ridge_coefficients = ridge_model.coef_\n",
    "\n",
    "# Create DataFrame for feature importances\n",
    "lasso_importance_df = pd.DataFrame({\n",
    "    'feature': features,\n",
    "    'importance': lasso_coefficients\n",
    "}).sort_values('importance', key=abs, ascending=False)\n",
    "\n",
    "ridge_importance_df = pd.DataFrame({\n",
    "    'feature': features,\n",
    "    'importance': ridge_coefficients\n",
    "}).sort_values('importance', key=abs, ascending=False)\n",
    "\n",
    "print(\"\\nTop Lasso Feature Importances:\")\n",
    "print(lasso_importance_df.head(10))\n",
    "\n",
    "print(\"\\nTop Ridge Feature Importances:\")\n",
    "print(ridge_importance_df.head(10))\n",
    " "
   ]
  },
  {
   "cell_type": "markdown",
   "metadata": {},
   "source": [
    "For a feature feature_i with coefficient βi\\beta_iβi​:βi>0\\beta_i > 0βi​>0: A unit increase in feature_i increases the predicted y by βi\\beta_iβi​.βi<0\\beta_i < 0βi​<0: A unit increase in feature_i decreases the predicted y by ∣βi∣|\\beta_i|∣βi​∣.βi=0\\beta_i = 0βi​=0: feature_i has no impact on the prediction (Lasso only)."
   ]
  }
 ],
 "metadata": {
  "kernelspec": {
   "display_name": "Python 3",
   "language": "python",
   "name": "python3"
  },
  "language_info": {
   "codemirror_mode": {
    "name": "ipython",
    "version": 3
   },
   "file_extension": ".py",
   "mimetype": "text/x-python",
   "name": "python",
   "nbconvert_exporter": "python",
   "pygments_lexer": "ipython3",
   "version": "3.10.2"
  }
 },
 "nbformat": 4,
 "nbformat_minor": 2
}
